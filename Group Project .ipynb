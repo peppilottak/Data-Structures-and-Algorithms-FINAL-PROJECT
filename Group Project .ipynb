{
 "cells": [
  {
   "cell_type": "code",
   "execution_count": null,
   "id": "b24cc909",
   "metadata": {},
   "outputs": [],
   "source": [
    "# Basic Data Structures"
   ]
  },
  {
   "cell_type": "code",
   "execution_count": 1,
   "id": "a8275566",
   "metadata": {},
   "outputs": [],
   "source": [
    "## Arrays\n",
    "class DynamicArray:\n",
    "    def __init__(self):\n",
    "        self.array = []\n",
    "\n",
    "    def append(self, value):\n",
    "        self.array.append(value)"
   ]
  },
  {
   "cell_type": "code",
   "execution_count": 2,
   "id": "8921c462",
   "metadata": {},
   "outputs": [],
   "source": [
    "## Linked Lists\n",
    "class Node:\n",
    "    def __init__(self, data):\n",
    "        self.data = data\n",
    "        self.next = None\n",
    "\n",
    "class LinkedList:\n",
    "    def __init__(self):\n",
    "        self.head = None\n",
    "\n",
    "    def append(self, data):\n",
    "        new_node = Node(data)\n",
    "        if not self.head:\n",
    "            self.head = new_node\n",
    "        else:\n",
    "            current = self.head\n",
    "            while current.next:\n",
    "                current = current.next\n",
    "            current.next = new_node"
   ]
  },
  {
   "cell_type": "code",
   "execution_count": 3,
   "id": "691a9001",
   "metadata": {},
   "outputs": [],
   "source": [
    "## Stacks\n",
    "class Stack:\n",
    "    def __init__(self):\n",
    "        self.items = []\n",
    "\n",
    "    def push(self, item):\n",
    "        self.items.append(item)\n",
    "\n",
    "    def pop(self):\n",
    "        return self.items.pop()\n",
    "\n",
    "    def peek(self):\n",
    "        return self.items[-1] if self.items else None"
   ]
  },
  {
   "cell_type": "code",
   "execution_count": 4,
   "id": "431baebb",
   "metadata": {},
   "outputs": [],
   "source": [
    "## Queues\n",
    "from collections import deque\n",
    "\n",
    "class Queue:\n",
    "    def __init__(self):\n",
    "        self.items = deque()\n",
    "\n",
    "    def enqueue(self, item):\n",
    "        self.items.append(item)\n",
    "\n",
    "    def dequeue(self):\n",
    "        return self.items.popleft()"
   ]
  },
  {
   "cell_type": "code",
   "execution_count": 5,
   "id": "6fa1a0db",
   "metadata": {},
   "outputs": [],
   "source": [
    "# Trees"
   ]
  },
  {
   "cell_type": "code",
   "execution_count": 6,
   "id": "8b21e631",
   "metadata": {},
   "outputs": [],
   "source": [
    "## Binary Trees\n",
    "class BinaryTreeNode:\n",
    "    def __init__(self, key):\n",
    "        self.key = key\n",
    "        self.left = None\n",
    "        self.right = None"
   ]
  },
  {
   "cell_type": "code",
   "execution_count": 7,
   "id": "eb78482f",
   "metadata": {},
   "outputs": [],
   "source": [
    "## Binary Search Trees (BST)\n",
    "class BinarySearchTree:\n",
    "    def __init__(self):\n",
    "        self.root = None\n",
    "\n",
    "    def insert(self, key):\n",
    "        self.root = self._insert(self.root, key)\n",
    "\n",
    "    def _insert(self, root, key):\n",
    "        if not root:\n",
    "            return BinaryTreeNode(key)\n",
    "\n",
    "        if key < root.key:\n",
    "            root.left = self._insert(root.left, key)\n",
    "        elif key > root.key:\n",
    "            root.right = self._insert(root.right, key)\n",
    "\n",
    "        return root"
   ]
  },
  {
   "cell_type": "code",
   "execution_count": 8,
   "id": "a89636bb",
   "metadata": {},
   "outputs": [],
   "source": [
    "# Balanced Trees (AVL)\n",
    "class AVLTreeNode:\n",
    "    def __init__(self, key):\n",
    "        self.key = key\n",
    "        self.left = None\n",
    "        self.right = None\n",
    "        self.height = 1  # Height of the node"
   ]
  },
  {
   "cell_type": "code",
   "execution_count": 9,
   "id": "acffe2a8",
   "metadata": {},
   "outputs": [],
   "source": [
    "## Hash Tables\n",
    "class HashTable:\n",
    "    def __init__(self, size):\n",
    "        self.size = size\n",
    "        self.table = [None] * size\n",
    "\n",
    "    def hash_function(self, key):\n",
    "        return hash(key) % self.size\n",
    "\n",
    "    def insert(self, key, value):\n",
    "        index = self.hash_function(key)\n",
    "        if not self.table[index]:\n",
    "            self.table[index] = [(key, value)]\n",
    "        else:\n",
    "            for i, (existing_key, _) in enumerate(self.table[index]):\n",
    "                if existing_key == key:\n",
    "                    self.table[index][i] = (key, value)\n",
    "                    break\n",
    "            else:\n",
    "                self.table[index].append((key, value))\n",
    "\n",
    "    def get(self, key):\n",
    "        index = self.hash_function(key)\n",
    "        if not self.table[index]:\n",
    "            return None\n",
    "        for existing_key, value in self.table[index]:\n",
    "            if existing_key == key:\n",
    "                return value\n",
    "        return None"
   ]
  },
  {
   "cell_type": "code",
   "execution_count": 10,
   "id": "59ce6230",
   "metadata": {},
   "outputs": [
    {
     "name": "stdout",
     "output_type": "stream",
     "text": [
      "Dynamic Array: [1, 2]\n",
      "Stack (pop): 6\n",
      "Stack (peek): 5\n",
      "Queue (dequeue): 7\n",
      "Hash Table (get): fruit\n"
     ]
    }
   ],
   "source": [
    "# Example Usage:\n",
    "\n",
    "# Arrays\n",
    "array = DynamicArray()\n",
    "array.append(1)\n",
    "array.append(2)\n",
    "print(\"Dynamic Array:\", array.array)\n",
    "\n",
    "# Linked Lists\n",
    "linked_list = LinkedList()\n",
    "linked_list.append(3)\n",
    "linked_list.append(4)\n",
    "\n",
    "# Stacks\n",
    "stack = Stack()\n",
    "stack.push(5)\n",
    "stack.push(6)\n",
    "print(\"Stack (pop):\", stack.pop())\n",
    "print(\"Stack (peek):\", stack.peek())\n",
    "\n",
    "# Queues\n",
    "queue = Queue()\n",
    "queue.enqueue(7)\n",
    "queue.enqueue(8)\n",
    "print(\"Queue (dequeue):\", queue.dequeue())\n",
    "\n",
    "# Binary Trees\n",
    "binary_tree = BinaryTreeNode(9)\n",
    "binary_tree.left = BinaryTreeNode(10)\n",
    "binary_tree.right = BinaryTreeNode(11)\n",
    "\n",
    "# Binary Search Trees\n",
    "bst = BinarySearchTree()\n",
    "keys_bst = [13, 12, 15, 14, 16]\n",
    "for key_bst in keys_bst:\n",
    "    bst.insert(key_bst)\n",
    "\n",
    "# AVL Trees\n",
    "avl_tree = AVLTreeNode(17)\n",
    "avl_tree.left = AVLTreeNode(18)\n",
    "avl_tree.right = AVLTreeNode(19)\n",
    "\n",
    "# Hash Table\n",
    "hash_table = HashTable(20)\n",
    "hash_table.insert(\"apple\", \"fruit\")\n",
    "hash_table.insert(\"banana\", \"fruit\")\n",
    "hash_table.insert(\"carrot\", \"vegetable\")\n",
    "\n",
    "print(\"Hash Table (get):\", hash_table.get(\"banana\"))"
   ]
  }
 ],
 "metadata": {
  "kernelspec": {
   "display_name": "Python 3 (ipykernel)",
   "language": "python",
   "name": "python3"
  },
  "language_info": {
   "codemirror_mode": {
    "name": "ipython",
    "version": 3
   },
   "file_extension": ".py",
   "mimetype": "text/x-python",
   "name": "python",
   "nbconvert_exporter": "python",
   "pygments_lexer": "ipython3",
   "version": "3.11.5"
  }
 },
 "nbformat": 4,
 "nbformat_minor": 5
}
